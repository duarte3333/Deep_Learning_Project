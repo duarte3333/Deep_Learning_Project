{
 "cells": [
  {
   "cell_type": "code",
   "execution_count": 2,
   "metadata": {},
   "outputs": [
    {
     "data": {
      "text/plain": [
       "<torch._C.Generator at 0x7f8c2e08a310>"
      ]
     },
     "execution_count": 2,
     "metadata": {},
     "output_type": "execute_result"
    }
   ],
   "source": [
    "import random\n",
    "\n",
    "import numpy as np\n",
    "import torch\n",
    "import torch.nn as nn\n",
    "import torch.nn.functional as F\n",
    "\n",
    "%matplotlib inline\n",
    "\n",
    "random.seed(5)\n",
    "np.random.seed(5)\n",
    "torch.random.manual_seed(5)"
   ]
  },
  {
   "cell_type": "markdown",
   "metadata": {},
   "source": [
    "### Question 1.1"
   ]
  },
  {
   "cell_type": "code",
   "execution_count": 3,
   "metadata": {},
   "outputs": [
    {
     "name": "stdout",
     "output_type": "stream",
     "text": [
      "(4, 3)\n"
     ]
    }
   ],
   "source": [
    "x1 = np.array([-2.0, 1.0, 0.5])\n",
    "x2 = np.array([1.0, 1.5, -0.5])\n",
    "x3 = np.array([-1.5, 1.0, -0.5])\n",
    "x4 = np.array([-2.0, -2.5, 1.5])\n",
    "\n",
    "X = np.array([x1, x2, x3, x4])\n",
    "\n",
    "print(X.shape)"
   ]
  },
  {
   "cell_type": "code",
   "execution_count": 4,
   "metadata": {},
   "outputs": [
    {
     "name": "stdout",
     "output_type": "stream",
     "text": [
      "3\n",
      "[4.5 0.  4.5 0. ]\n",
      "[2.59807621 0.         2.59807621 0.        ]\n",
      "[0.46536883 0.03463117 0.46536883 0.03463117]\n",
      "[-1.66342208  0.8961065   0.03463117]\n"
     ]
    }
   ],
   "source": [
    "q = np.array([-2.0, 1.0, -1.0])\n",
    "\n",
    "print(np.size(q))\n",
    "\n",
    "scores = X.dot(q) / np.sqrt(np.size(q))\n",
    "probabilities = np.exp(scores) / np.sum(np.exp(scores))\n",
    "output = X.T.dot(probabilities)\n",
    "\n",
    "print(X.dot(q))\n",
    "print(scores)\n",
    "print(probabilities)\n",
    "print(output)"
   ]
  },
  {
   "cell_type": "markdown",
   "metadata": {},
   "source": [
    "### Question 1.2"
   ]
  },
  {
   "cell_type": "code",
   "execution_count": 5,
   "metadata": {},
   "outputs": [
    {
     "name": "stdout",
     "output_type": "stream",
     "text": [
      "[[-2.25  4.5 ]\n",
      " [ 1.25  2.  ]\n",
      " [-1.25  4.75]\n",
      " [-2.75 -3.5 ]]\n",
      "[[ 5.75  1.5 ]\n",
      " [ 2.   -0.5 ]\n",
      " [ 4.5   2.  ]\n",
      " [-2.5   0.5 ]]\n",
      "[[-2.5  -7.5 ]\n",
      " [ 0.25  0.  ]\n",
      " [-2.   -5.25]\n",
      " [-0.75 -1.5 ]]\n",
      "1.4142135623730951\n",
      "[[ -4.37522321  -4.77297077  -0.79549513   5.5684659 ]\n",
      " [  7.20365033   1.06066017   6.80590277  -1.50260191]\n",
      " [ -0.04419417  -3.44714556   2.74003878   3.8890873 ]\n",
      " [-14.89343658  -2.65165043 -13.70019389   3.62392225]]\n",
      "[[4.79433566e-05 3.22098620e-05 1.71943035e-03 9.98200416e-01]\n",
      " [5.97319598e-01 1.28333499e-03 4.01298182e-01 9.88847812e-05]\n",
      " [1.46423661e-02 4.87223528e-04 2.37021787e-01 7.47848624e-01]\n",
      " [9.06143069e-09 1.87817885e-03 2.98824011e-08 9.98121782e-01]]\n",
      "[[-0.75220098 -1.50668721]\n",
      " [-2.29564869 -6.58686077]\n",
      " [-1.07141415 -2.47595506]\n",
      " [-0.74812187 -1.4971829 ]]\n",
      "[1. 1. 1. 1.]\n"
     ]
    }
   ],
   "source": [
    "W_Q = np.array([[1, -1.5], [0, 2], [-0.5, -1]])\n",
    "W_K = np.array([[-1.5, -1], [2.5, 0], [0.5, -1]])\n",
    "W_V = np.array([[1, 2.5], [-0.5, -2], [0, -1]])\n",
    "\n",
    "#print(W_Q)\n",
    "#print(W_K)\n",
    "#print(W_V)\n",
    "\n",
    "Q = X.dot(W_Q)\n",
    "K = X.dot(W_K)\n",
    "V = X.dot(W_V)\n",
    "\n",
    "print(Q)\n",
    "print(K)\n",
    "print(V)\n",
    "\n",
    "print(np.sqrt(np.size(Q, 1)))\n",
    "\n",
    "scores = Q.dot(K.T) / np.sqrt(np.size(Q, 1))\n",
    "probabilities = np.exp(scores) / np.sum(np.exp(scores), axis=1)[:, None]\n",
    "\n",
    "Z = probabilities.dot(V)\n",
    "\n",
    "print(scores)\n",
    "print(probabilities)\n",
    "print(Z)\n",
    "\n",
    "print(probabilities.sum(axis=1))"
   ]
  },
  {
   "cell_type": "code",
   "execution_count": 6,
   "metadata": {},
   "outputs": [
    {
     "data": {
      "text/plain": [
       "<matplotlib.image.AxesImage at 0x7f8c2c92f1f0>"
      ]
     },
     "execution_count": 6,
     "metadata": {},
     "output_type": "execute_result"
    },
    {
     "data": {
      "image/png": "[encoded data removed]",
      "text/plain": [
       "<Figure size 432x288 with 1 Axes>"
      ]
     },
     "metadata": {
      "needs_background": "light"
     },
     "output_type": "display_data"
    }
   ],
   "source": [
    "import matplotlib.pyplot as plt\n",
    "plt.imshow(probabilities)"
   ]
  },
  {
   "cell_type": "markdown",
   "metadata": {},
   "source": [
    "### Question 1.3"
   ]
  },
  {
   "cell_type": "code",
   "execution_count": 7,
   "metadata": {},
   "outputs": [
    {
     "name": "stdout",
     "output_type": "stream",
     "text": [
      "[[4.79433566e-05 3.22098620e-05 1.71943035e-03 9.98200416e-01]\n",
      " [5.97319598e-01 1.28333499e-03 4.01298182e-01 9.88847812e-05]\n",
      " [1.46423661e-02 4.87223528e-04 2.37021787e-01 7.47848624e-01]\n",
      " [9.06143069e-09 1.87817885e-03 2.98824011e-08 9.98121782e-01]]\n",
      "[[-0.75220098 -1.50668721]\n",
      " [-2.29564869 -6.58686077]\n",
      " [-1.07141415 -2.47595506]\n",
      " [-0.74812187 -1.4971829 ]]\n"
     ]
    },
    {
     "data": {
      "image/png": "[encoded data removed]",
      "text/plain": [
       "<Figure size 432x288 with 1 Axes>"
      ]
     },
     "metadata": {
      "needs_background": "light"
     },
     "output_type": "display_data"
    },
    {
     "name": "stdout",
     "output_type": "stream",
     "text": [
      "[[1.18306921e-01 2.01966211e-02 1.68483136e-01 6.93013322e-01]\n",
      " [8.48429312e-04 9.98944583e-01 2.06267364e-04 7.20592823e-07]\n",
      " [2.67590116e-02 7.79843042e-04 5.42703523e-02 9.18190793e-01]\n",
      " [2.47463407e-05 6.12522986e-10 2.06437556e-04 9.99768815e-01]]\n",
      "[[-2.26628332 -2.26628332]\n",
      " [ 1.99725652  1.99725652]\n",
      " [-2.82066255 -2.82066255]\n",
      " [-2.99952526 -2.99952526]]\n"
     ]
    },
    {
     "data": {
      "image/png": "[encoded data removed]",
      "text/plain": [
       "<Figure size 432x288 with 1 Axes>"
      ]
     },
     "metadata": {
      "needs_background": "light"
     },
     "output_type": "display_data"
    },
    {
     "name": "stdout",
     "output_type": "stream",
     "text": [
      "[[-0.75220098 -1.50668721 -2.26628332 -2.26628332]\n",
      " [-2.29564869 -6.58686077  1.99725652  1.99725652]\n",
      " [-1.07141415 -2.47595506 -2.82066255 -2.82066255]\n",
      " [-0.74812187 -1.4971829  -2.99952526 -2.99952526]]\n",
      "[[-6.04664898  3.77781072 -0.75731086]\n",
      " [ 8.28741825  0.14750295 10.57968068]\n",
      " [-7.3905735   5.09982766 -0.01158073]\n",
      " [-8.25045389  4.87428797 -1.50140321]]\n"
     ]
    }
   ],
   "source": [
    "W_O = np.array([[-1, 1.5, 2], [0, -1, -2], [1, -1.5, 0], [2, 0, 1]])\n",
    "\n",
    "W_Q_heads = [W_Q, np.ones_like(W_Q)]\n",
    "W_K_heads = [W_K, np.ones_like(W_K)]\n",
    "W_V_heads = [W_V, np.ones_like(W_V)]\n",
    "\n",
    "head_representations = []\n",
    "\n",
    "for W_Q_h, W_K_h, W_V_h in zip(W_Q_heads, W_K_heads, W_V_heads):\n",
    "    Q_h = X.dot(W_Q_h)\n",
    "    K_h = X.dot(W_K_h)\n",
    "    V_h = X.dot(W_V_h)\n",
    "    scores = Q_h.dot(K_h.T) / np.sqrt(np.size(Q_h, 1))\n",
    "    probabilities = np.exp(scores) / np.sum(np.exp(scores), axis=1)[:, None]\n",
    "    Z_h = probabilities.dot(V_h)\n",
    "    head_representations.append(Z_h)\n",
    "    print(probabilities)\n",
    "    print(Z_h)\n",
    "    plt.imshow(probabilities)\n",
    "    plt.show()\n",
    "    \n",
    "print(np.concatenate(head_representations, axis=1))\n",
    "\n",
    "Z = np.concatenate(head_representations, axis=1).dot(W_O)\n",
    "\n",
    "print(Z)"
   ]
  },
  {
   "cell_type": "markdown",
   "metadata": {},
   "source": [
    "### Question 2"
   ]
  },
  {
   "cell_type": "markdown",
   "metadata": {},
   "source": [
    "In this exercise, you will implement a sequence-to-sequence network that reverses strings with the help of attention. We will randomly generate strings consisting of characters in \\{\"a\", \"b\", \"c\", \"d\"\\}."
   ]
  },
  {
   "cell_type": "code",
   "execution_count": 8,
   "metadata": {},
   "outputs": [
    {
     "name": "stdout",
     "output_type": "stream",
     "text": [
      "['ccadbabacdbd', 'ababdcbdbab', 'dbbaabbbbccb', 'bbbdcacdbbc', 'ccac', 'cccd', 'cbddbacacdadcd', 'adabbabdcccd', 'ccad', 'bccb']\n"
     ]
    }
   ],
   "source": [
    "\n",
    "# instantiate vocabulary\n",
    "# set vocab for <start of string> and <end of string>\n",
    "# BOS = \"<s>\"\n",
    "# EOS = \"</s>\"\n",
    "\n",
    "class Vocab:\n",
    "    def __init__(self, vocab):\n",
    "        self.bos = \"<s>\"\n",
    "        self.eos = \"</s>\" \n",
    "        ext_vocab = [self.bos, self.eos] + raw_vocab\n",
    "        self.index2string = {i: n for i, n in enumerate(ext_vocab)}\n",
    "        self.string2index = {n: i for i, n in enumerate(ext_vocab)}\n",
    "\n",
    "    def __len__(self):\n",
    "        return len(self.index2string)\n",
    "\n",
    "raw_vocab = list(\"abcd\")\n",
    "vocab = Vocab(raw_vocab)\n",
    "\n",
    "\n",
    "def sample_string(min_length, max_length):\n",
    "    length = random.randrange(min_length, max_length)\n",
    "    return \"\".join([random.choice(raw_vocab) for _ in range(length)])\n",
    "\n",
    "def sample_strings(min_length, max_length, size):\n",
    "    return [sample_string(min_length, max_length) for _ in range(size)]\n",
    "\n",
    "def to_tensor(name):\n",
    "    indices = [vocab.string2index[vocab.bos]] + [vocab.string2index[n] for n in name] + [vocab.string2index[vocab.eos]]\n",
    "    return torch.tensor(indices, dtype=torch.long).unsqueeze(0)\n",
    "\n",
    "def make_dataset(lines):\n",
    "    dataset = [(to_tensor(line), to_tensor(reversed(line))) for line in lines]\n",
    "    return dataset\n",
    "\n",
    "\n",
    "#generate train/val splits\n",
    "train_size = 200\n",
    "valid_size = 100\n",
    "\n",
    "train_lines = sample_strings(3, 15, train_size)\n",
    "valid_lines = sample_strings(3, 15, valid_size)\n",
    "\n",
    "train_dataset = make_dataset(train_lines)\n",
    "valid_dataset = make_dataset(valid_lines)\n",
    "\n",
    "print(train_lines[:10])"
   ]
  },
  {
   "cell_type": "markdown",
   "metadata": {},
   "source": [
    "The first part of the model is an RNN-based encoder: we will use an LSTM ([nn.LSTM](https://pytorch.org/docs/stable/generated/torch.nn.LSTM.html)) module for this."
   ]
  },
  {
   "cell_type": "code",
   "execution_count": 9,
   "metadata": {},
   "outputs": [],
   "source": [
    "class Encoder(nn.Module):\n",
    "    def __init__(self, vocab_size, embedding_size, hidden_size, bidirectional=False):\n",
    "        super(Encoder, self).__init__()\n",
    "\n",
    "        # set embedding layer \n",
    "        # compute hidden size for RNN\n",
    "        # initialise RNN module -- instantiate as an LSTM \n",
    "        # use nn.LSTM\n",
    "        self.embeddings = nn.Embedding(vocab_size, embedding_size)\n",
    "\n",
    "        if bidirectional:\n",
    "            hidden_size //= 2\n",
    "        self.rnn = nn.LSTM(\n",
    "            embedding_size, \n",
    "            hidden_size, \n",
    "            bidirectional=bidirectional, \n",
    "            batch_first=True\n",
    "        )\n",
    "\n",
    "    def forward(self, input, hidden=None):\n",
    "        \"\"\"\n",
    "        input (LongTensor): batch x src length\n",
    "        src length (batch-length list): If given, the input will be packed\n",
    "        hidden: hidden or hidden/cell state input dimensions for the RNN type\n",
    "        \n",
    "        ==> you may need to reshape the hidden layer: bidirectional LSTM will \n",
    "            return a concatenation of the final forward and reverse hidden states \n",
    "            forward and backward are directions 0 and 1 respectively\n",
    "            check the _reshape_hidden function\n",
    "        \n",
    "        returns:\n",
    "            output (FloatTensor): batch x src length x hidden size\n",
    "            hidden_n (FloatTensor): hidden or hidden/cell state input\n",
    "                dimensions for the RNN type\n",
    "        \"\"\"\n",
    "        emb = self.embeddings(input)\n",
    "        output, hidden_n = self.rnn(emb, hidden)\n",
    "        if self.rnn.bidirectional:\n",
    "            hidden_n = self._reshape_hidden(hidden_n)\n",
    "        return output, hidden_n\n",
    "\n",
    "    def _merge_tensor(self, state_tensor):\n",
    "        forward_states = state_tensor[::2]\n",
    "        backward_states = state_tensor[1::2]\n",
    "        return torch.cat([forward_states, backward_states], 2)\n",
    "\n",
    "    def _reshape_hidden(self, hidden):\n",
    "        \"\"\"\n",
    "        hidden:\n",
    "            num_layers * num_directions x batch x self.hidden_size // 2\n",
    "            or a tuple of these\n",
    "        returns:\n",
    "            num_layers\n",
    "        \"\"\"\n",
    "        assert self.rnn.bidirectional\n",
    "        if isinstance(hidden, tuple):\n",
    "            return tuple(self._merge_tensor(h) for h in hidden)\n",
    "        else:\n",
    "            return self._merge_tensor(hidden)"
   ]
  },
  {
   "cell_type": "markdown",
   "metadata": {},
   "source": [
    "We also need to define a decoder. We will also use an LSTM module for the decoder. We can add an attention mechanism on the outputs. This implementation works both with and without an attention mechanism."
   ]
  },
  {
   "cell_type": "code",
   "execution_count": 10,
   "metadata": {},
   "outputs": [],
   "source": [
    "class Decoder(nn.Module):\n",
    "    def __init__(self, vocab_size, embedding_size, hidden_size, attn=None):\n",
    "        super(Decoder, self).__init__()\n",
    "        self.embeddings = nn.Embedding(vocab_size, embedding_size)\n",
    "        self.rnn = nn.LSTM(embedding_size, hidden_size, batch_first=True)\n",
    "        self.output_layer = nn.Linear(hidden_size, vocab_size)\n",
    "        self.attn = attn\n",
    "\n",
    "    def forward(self, input, context, hidden):\n",
    "        \"\"\"\n",
    "        input (LongTensor): batch x tgt length\n",
    "        context (FloatTensor): batch x src length x hidden size\n",
    "        hidden: hidden or hidden/cell state input dimensions for the RNN type\n",
    "        returns (FloatTensor): (batch*tgt length) x output size\n",
    "        \"\"\"\n",
    "        emb = self.embeddings(input)\n",
    "        output, hidden_n = self.rnn(emb, hidden)\n",
    "        \n",
    "        # apply attention between source context and query from\n",
    "        # decoder RNN\n",
    "        alignment = None\n",
    "        if self.attn is not None:\n",
    "            output, alignment = self.attn(output, context)\n",
    "\n",
    "        flat_output = output.contiguous().view(-1, self.rnn.hidden_size)\n",
    "        output = self.output_layer(flat_output)\n",
    "        return output, alignment"
   ]
  },
  {
   "cell_type": "markdown",
   "metadata": {},
   "source": [
    "We can put them together into an encoder-decoder model class, like this:"
   ]
  },
  {
   "cell_type": "code",
   "execution_count": 11,
   "metadata": {},
   "outputs": [],
   "source": [
    "class Seq2Seq(nn.Module):\n",
    "    def __init__(self, encoder, decoder):\n",
    "        super(Seq2Seq, self).__init__()\n",
    "        self.encoder = encoder\n",
    "        self.decoder = decoder\n",
    "\n",
    "    def forward(self, src, tgt):\n",
    "        \"\"\"\n",
    "        src, tgt (LongTensor): (batch size x sequence length)\n",
    "        returns (FloatTensor): (batch*tgt length) x output size\n",
    "        \"\"\"\n",
    "        context, enc_hidden = self.encoder(src)\n",
    "        return self.decoder(tgt, context=context, hidden=enc_hidden)"
   ]
  },
  {
   "cell_type": "markdown",
   "metadata": {},
   "source": [
    "With our base model defined, we can write training and validation code. We need to consider how will examples be passed during training (with access to the target outputs) and during inference (validate)."
   ]
  },
  {
   "cell_type": "code",
   "execution_count": 12,
   "metadata": {},
   "outputs": [],
   "source": [
    "def train_epoch(model, train_iter, loss, optimizer):\n",
    "    epoch_loss = 0.0\n",
    "    model.train()\n",
    "    random.shuffle(train_iter)  # present examples in random order\n",
    "    for src, tgt in train_iter:\n",
    "        # Create the target input and output sequences\n",
    "        # Hint: the input and output are the same, but offset by one timestep\n",
    "        tgt_in = tgt[:, :-1]\n",
    "        gold = tgt[:, 1:].contiguous().view(-1)\n",
    "\n",
    "        # Zero the gradients\n",
    "        optimizer.zero_grad()\n",
    "        # Run the forward pass of the model\n",
    "        pred, _ = model(src, tgt_in)\n",
    "        # Compute the loss\n",
    "        batch_loss = loss(pred, gold)\n",
    "        # Backprop the loss and update the parameters\n",
    "        batch_loss.backward()\n",
    "        optimizer.step()\n",
    "        # Update the epoch loss\n",
    "        epoch_loss += batch_loss.item()\n",
    "    return epoch_loss\n",
    "\n",
    "\n",
    "def validate(model, data_iter):\n",
    "    model.eval()\n",
    "    n_correct = 0\n",
    "    n_total = 0\n",
    "    with torch.no_grad():\n",
    "        for src, tgt in data_iter:\n",
    "            tgt_in = tgt[:, :-1]\n",
    "            pred = model(src, tgt_in)[0].argmax(dim=1)\n",
    "            gold = tgt[:, 1:].contiguous().view(-1)\n",
    "            n_correct += (pred == gold).sum().item()\n",
    "            n_total += gold.size(0)\n",
    "        return n_correct / n_total\n",
    "\n",
    "\n",
    "def train(model, train, valid, epochs=30, learning_rate=0.5):\n",
    "    loss = nn.CrossEntropyLoss()\n",
    "    optimizer = torch.optim.SGD(model.parameters(), lr=learning_rate)\n",
    "\n",
    "    train_losses = []\n",
    "    valid_accs = []\n",
    "    epochs = list(range(1, epochs + 1))\n",
    "    for epoch in epochs:\n",
    "        #print('Training epoch {}'.format(epoch))\n",
    "        train_loss = train_epoch(model, train, loss, optimizer)\n",
    "        train_losses.append(train_loss)\n",
    "        valid_acc = validate(model, valid)\n",
    "        valid_accs.append(valid_acc)\n",
    "        #print('Train loss: {} ; Validation acc: {}'.format(train_loss, valid_acc))"
   ]
  },
  {
   "cell_type": "markdown",
   "metadata": {},
   "source": [
    "Train a unidirectional model without attention:"
   ]
  },
  {
   "cell_type": "code",
   "execution_count": 13,
   "metadata": {},
   "outputs": [
    {
     "name": "stdout",
     "output_type": "stream",
     "text": [
      "Seq2Seq(\n",
      "  (encoder): Encoder(\n",
      "    (embeddings): Embedding(6, 6)\n",
      "    (rnn): LSTM(6, 64, batch_first=True)\n",
      "  )\n",
      "  (decoder): Decoder(\n",
      "    (embeddings): Embedding(6, 6)\n",
      "    (rnn): LSTM(6, 64, batch_first=True)\n",
      "    (output_layer): Linear(in_features=64, out_features=6, bias=True)\n",
      "  )\n",
      ")\n"
     ]
    },
    {
     "name": "stderr",
     "output_type": "stream",
     "text": [
      "/Users/margaridacampos/opt/anaconda3/lib/python3.8/site-packages/pandas/core/computation/expressions.py:20: UserWarning: Pandas requires version '2.7.3' or newer of 'numexpr' (version '2.7.1' currently installed).\n",
      "  from pandas.core.computation.check import NUMEXPR_INSTALLED\n"
     ]
    }
   ],
   "source": [
    "vocab_size = len(vocab)\n",
    "embedding_size = vocab_size\n",
    "hidden_size = 64\n",
    "\n",
    "enc = Encoder(vocab_size, embedding_size, hidden_size)\n",
    "dec = Decoder(vocab_size, embedding_size, hidden_size)\n",
    "enc.embeddings.weight.data = torch.eye(vocab_size)\n",
    "dec.embeddings.weight.data = enc.embeddings.weight.data\n",
    "enc.embeddings.weight.requires_grad = False\n",
    "dec.embeddings.weight.requires_grad = False\n",
    "\n",
    "model = Seq2Seq(enc, dec)\n",
    "print(model)\n",
    "\n",
    "train(model, train_dataset, valid_dataset, epochs=50)"
   ]
  },
  {
   "cell_type": "markdown",
   "metadata": {},
   "source": [
    "This model often manages to predict the right sequence, but it also often fails. Note that the decoder makes use of the *last* hidden state from the encoder, which has recently seen the final time step of the source sequence (in other words, the first element it needs to predict), but the other elements less recently. If only there were a way to make it easier for the model to focus on less recent positions...\n",
    "\n",
    "The attention mechanism is an extra layer for the decoder that can do precisely this. In this exercise, we consider a simple but effective attention mechanism called *dot product attention*.\n"
   ]
  },
  {
   "cell_type": "code",
   "execution_count": 14,
   "metadata": {},
   "outputs": [],
   "source": [
    "class DotProdAttention(nn.Module):\n",
    "\n",
    "    def __init__(self, hidden_size):\n",
    "        super().__init__()\n",
    "        self.mlp = nn.Sequential(\n",
    "            nn.Linear(hidden_size * 2, hidden_size),\n",
    "            nn.Tanh()\n",
    "        )\n",
    "\n",
    "    def forward(self, query, context):\n",
    "        \"\"\"\n",
    "        query: batch x tgt_length x hidden_size\n",
    "        context: batch x src_length x hidden_size\n",
    "        \"\"\"\n",
    "        tgt_batch, tgt_len, tgt_hidden = query.size()\n",
    "        src_batch, src_len, src_hidden = context.size()\n",
    "        attn_scores = torch.bmm(query, context.transpose(1, 2))\n",
    "        alignment = torch.softmax(attn_scores, 2)\n",
    "        c = torch.bmm(alignment, context)\n",
    "        attn_h_t = self.mlp(torch.cat([c, query], dim=2))\n",
    "        return attn_h_t, alignment\n"
   ]
  },
  {
   "cell_type": "markdown",
   "metadata": {},
   "source": [
    "Now that attention has been implemented, we can train the model:"
   ]
  },
  {
   "cell_type": "code",
   "execution_count": 15,
   "metadata": {},
   "outputs": [
    {
     "name": "stdout",
     "output_type": "stream",
     "text": [
      "Seq2Seq(\n",
      "  (encoder): Encoder(\n",
      "    (embeddings): Embedding(6, 6)\n",
      "    (rnn): LSTM(6, 32, batch_first=True, bidirectional=True)\n",
      "  )\n",
      "  (decoder): Decoder(\n",
      "    (embeddings): Embedding(6, 6)\n",
      "    (rnn): LSTM(6, 64, batch_first=True)\n",
      "    (output_layer): Linear(in_features=64, out_features=6, bias=True)\n",
      "    (attn): DotProdAttention(\n",
      "      (mlp): Sequential(\n",
      "        (0): Linear(in_features=128, out_features=64, bias=True)\n",
      "        (1): Tanh()\n",
      "      )\n",
      "    )\n",
      "  )\n",
      ")\n"
     ]
    }
   ],
   "source": [
    "attn = DotProdAttention(hidden_size)\n",
    "enc = Encoder(vocab_size, embedding_size, hidden_size, bidirectional=True)\n",
    "dec = Decoder(vocab_size, embedding_size, hidden_size, attn=attn)\n",
    "enc.embeddings.weight.data = torch.eye(vocab_size)\n",
    "dec.embeddings.weight.data = enc.embeddings.weight.data\n",
    "enc.embeddings.weight.requires_grad = False\n",
    "dec.embeddings.weight.requires_grad = False\n",
    "\n",
    "attn_model = Seq2Seq(enc, dec)\n",
    "print(attn_model)\n",
    "\n",
    "train(attn_model, train_dataset, valid_dataset, epochs=30)"
   ]
  },
  {
   "cell_type": "markdown",
   "metadata": {},
   "source": [
    "We can also visualize the model's attention matrix:"
   ]
  },
  {
   "cell_type": "code",
   "execution_count": 16,
   "metadata": {},
   "outputs": [
    {
     "data": {
      "text/plain": [
       "<matplotlib.image.AxesImage at 0x7f8c1fb0c490>"
      ]
     },
     "execution_count": 16,
     "metadata": {},
     "output_type": "execute_result"
    },
    {
     "data": {
      "image/png": "[encoded data removed]",
      "text/plain": [
       "<Figure size 288x288 with 1 Axes>"
      ]
     },
     "metadata": {
      "needs_background": "light"
     },
     "output_type": "display_data"
    }
   ],
   "source": [
    "import matplotlib.pyplot as plt\n",
    "\n",
    "string = \"abacadabacc\"  # try something\n",
    "reversed_string = reversed(string)\n",
    "\n",
    "src = to_tensor(string)\n",
    "tgt = to_tensor(reversed_string)\n",
    "\n",
    "with torch.no_grad():\n",
    "    _, alignment = attn_model(src, tgt)\n",
    "\n",
    "attn_matrix = alignment.squeeze(0).numpy()\n",
    "plt.matshow(attn_matrix)"
   ]
  },
  {
   "cell_type": "code",
   "execution_count": null,
   "metadata": {},
   "outputs": [],
   "source": []
  },
  {
   "cell_type": "code",
   "execution_count": null,
   "metadata": {},
   "outputs": [],
   "source": []
  }
 ],
 "metadata": {
  "kernelspec": {
   "display_name": "Python 3",
   "language": "python",
   "name": "python3"
  },
  "language_info": {
   "codemirror_mode": {
    "name": "ipython",
    "version": 3
   },
   "file_extension": ".py",
   "mimetype": "text/x-python",
   "name": "python",
   "nbconvert_exporter": "python",
   "pygments_lexer": "ipython3",
   "version": "3.8.3"
  }
 },
 "nbformat": 4,
 "nbformat_minor": 5
}
