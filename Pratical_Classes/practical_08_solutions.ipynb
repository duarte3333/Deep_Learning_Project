{
 "cells": [
  {
   "cell_type": "markdown",
   "id": "94ce8f61",
   "metadata": {},
   "source": [
    "# Practical 09 - Recurrent Neural Networks\n",
    "\n",
    "**Disclamer**: Some material from the suggested exercises were retrieved and adapted from the following sources:\n",
    "* [Coursera Sequence Models course by DeepLearningAI](https://www.coursera.org/learn/nlp-sequence-models)\n",
    "* [Pytorch Tutorial for RNNs](https://pytorch.org/tutorials/intermediate/char_rnn_generation_tutorial.html)\n",
    "* [Pytorch Sentiment Analysis Tutorial](https://github.com/bentrevett/pytorch-sentiment-analysis)"
   ]
  },
  {
   "cell_type": "code",
   "execution_count": 1,
   "id": "c787d01b",
   "metadata": {},
   "outputs": [],
   "source": [
    "import numpy as np\n",
    "\n",
    "np.random.seed(1)"
   ]
  },
  {
   "cell_type": "markdown",
   "id": "d47c74d5",
   "metadata": {},
   "source": [
    "## Question 01\n"
   ]
  },
  {
   "cell_type": "markdown",
   "id": "9c7dd504",
   "metadata": {},
   "source": [
    "Perform a forward propagation for \n",
    "\n",
    "$ x^{(1)} = \\begin{bmatrix} \\begin{pmatrix}\n",
    "4 \\\\ 0 \\\\ 0 \\\\ 0\n",
    "\\end{pmatrix}, \n",
    " \\begin{pmatrix}\n",
    "0 \\\\ 8 \\\\ 2 \\\\ 0\n",
    "\\end{pmatrix}\n",
    "\\end{bmatrix}\n",
    "$\n",
    "\n",
    "With targets:\n",
    "\n",
    "$ t^{(1)} = \\begin{bmatrix} \\begin{pmatrix}\n",
    "1 \\\\ 0\n",
    "\\end{pmatrix}, \n",
    " \\begin{pmatrix}\n",
    "0 \\\\ 1\n",
    "\\end{pmatrix}\n",
    "\\end{bmatrix}\n",
    "$\n",
    "\n",
    "Initialize all weights and biases to 0.1, using 3 units per hidden layer, initializing the hidden state to all zeros and using η = 1.0.\n",
    "\n",
    "----"
   ]
  },
  {
   "cell_type": "markdown",
   "id": "4a42d2ad",
   "metadata": {},
   "source": [
    "A Recurrent neural network can be seen as the repetition of a single cell. We are first going to implement the computations for a single time-step. The following figure describes the operations for a single time-step of an RNN cell. \n",
    "\n",
    "<img src=\"forward-net.png\" style=\"width:700px;height:300px;\">"
   ]
  },
  {
   "cell_type": "markdown",
   "id": "6d1c935e",
   "metadata": {},
   "source": [
    "\n",
    "**Steps to code the RNN cell**:\n",
    "1. Compute the hidden state with tanh activation: $a^{\\langle t \\rangle} = \\tanh(W_{aa} a^{\\langle t-1 \\rangle} + W_{ax} x^{\\langle t \\rangle} + b_a)$.\n",
    "2. Using your new hidden state $a^{\\langle t \\rangle}$, compute the prediction $\\hat{y}^{\\langle t \\rangle} = softmax(W_{ya} a^{\\langle t \\rangle} + b_y)$.\n",
    "3. Return $a^{\\langle t \\rangle}$ and $y^{\\langle t \\rangle}$ \n"
   ]
  },
  {
   "cell_type": "code",
   "execution_count": 2,
   "id": "74b7c254",
   "metadata": {},
   "outputs": [],
   "source": [
    "def softmax(x):\n",
    "    e_x = np.exp(x - np.max(x))\n",
    "    return e_x / e_x.sum(axis=0)\n",
    "\n",
    "\n",
    "def rnn_cell_forward(xt, a_prev, Wax, Waa, Wya, ba, by):\n",
    "    \"\"\"\n",
    "    Implements a single forward step of the RNN-cell\n",
    "    \n",
    "    Arguments:\n",
    "        xt -- your input data at timestep \"t\", numpy array of shape (n_x).\n",
    "        a_prev -- Hidden state at timestep \"t-1\", numpy array of shape (n_a)\n",
    "        Wax -- Weight matrix multiplying the input, numpy array of shape (n_a, n_x)\n",
    "        Waa -- Weight matrix multiplying the hidden state, numpy array of shape (n_a, n_a)\n",
    "        Wya -- Weight matrix relating the hidden-state to the output, numpy array of shape (n_y, n_a)\n",
    "        ba --  Bias, numpy array of shape (n_a, 1)\n",
    "        by -- Bias relating the hidden-state to the output, numpy array of shape (n_y, 1)\n",
    "\n",
    "    Returns:\n",
    "        a_next -- next hidden state, of shape (n_a)\n",
    "        yt_pred -- prediction at timestep \"t\", numpy array of shape (n_y)\n",
    "\n",
    "    \"\"\"\n",
    "    # YOUR CODE HERE\n",
    "\n",
    "    # compute next activation state\n",
    "    a_next = np.tanh(np.dot(Wax, xt) + np.dot(Waa, a_prev) + ba)\n",
    "\n",
    "    # compute output of the current cell\n",
    "    yt_pred = softmax(np.dot(Wya, a_next) + by)\n",
    "\n",
    "    return a_next, yt_pred"
   ]
  },
  {
   "cell_type": "markdown",
   "id": "bf3a0603",
   "metadata": {},
   "source": [
    "You can see an RNN as the repetition of the cell you've just built. If your input sequence of data is carried over 10 time steps, then you will copy the RNN cell 10 times. Each cell takes as input the hidden state from the previous cell ($a^{\\langle t-1 \\rangle}$) and the current time-step's input data ($x^{\\langle t \\rangle}$). It outputs a hidden state ($a^{\\langle t \\rangle}$) and a prediction ($y^{\\langle t \\rangle}$) for this time-step.\n",
    "\n",
    "\n",
    "<img src=\"rnn_forward.png\" style=\"width:800px;height:300px;\">\n",
    "\n",
    "\n",
    "\n",
    "Now, we are going to code the RNN forward propagation over the sequence\n",
    "\n",
    "**Steps**:\n",
    "1. Create a vector of zeros ($a$) that will store all the hidden states computed by the RNN.\n",
    "2. Initialize the \"next\" hidden state as $a_0$ (initial hidden state).\n",
    "3. Start looping over each time step, your incremental index is $t$ :\n",
    "    - Update the \"next\" hidden state and the cache by running `rnn_cell_forward`\n",
    "    - Keep a history of the parameters for the gradient update\n",
    "    - Store the \"next\" hidden state in $a$ ($t^{th}$ position) \n",
    "    - Store the prediction in y\n",
    "4. Return $a$, $y$ and history"
   ]
  },
  {
   "cell_type": "code",
   "execution_count": 3,
   "id": "35d73175",
   "metadata": {},
   "outputs": [],
   "source": [
    "def rnn_forward(x, a0, Wax, Waa, Wya, ba, by):\n",
    "    \"\"\"\n",
    "    Implement the forward propagation of the recurrent neural network\n",
    "\n",
    "    Arguments:\n",
    "        x -- Input data for every time-step, of shape (n_x, m, T_x).\n",
    "        a0 -- Initial hidden state, of shape (n_a, m)\n",
    "        Waa -- Weight matrix multiplying the hidden state, numpy array of shape (n_a, n_a)\n",
    "        Wax -- Weight matrix multiplying the input, numpy array of shape (n_a, n_x)\n",
    "        Wya -- Weight matrix relating the hidden-state to the output, numpy array of shape (n_y, n_a)\n",
    "        ba --  Bias numpy array of shape (n_a, 1)\n",
    "        by -- Bias relating the hidden-state to the output, numpy array of shape (n_y, 1)\n",
    "\n",
    "    Returns:\n",
    "        a -- Hidden states for every time-step, numpy array of shape (n_a, m, T_x)\n",
    "        y_pred -- Predictions for every time-step, numpy array of shape (n_y, m, T_x)\n",
    "        history -- tuple of values needed for the backward pass, contains (list of caches, x)\n",
    "    \"\"\"\n",
    "\n",
    "    # YOUR CODE HERE\n",
    "    # TIP: use rnn_cell_forward() inside a for loop\n",
    "\n",
    "    # Initialize \"history\" which will contain the list the parameters in each time-step\n",
    "    history = []\n",
    "\n",
    "    # Retrieve dimensions from shapes of x and Wy\n",
    "    n_x, T_x = x.shape\n",
    "    n_y, n_a = Wya.shape\n",
    "\n",
    "    # initialize \"a\" and \"y_pred\" with zeros\n",
    "    a = np.zeros((n_a, T_x))\n",
    "    y_pred = np.zeros((n_y, T_x))\n",
    "\n",
    "    # Initialize a_next\n",
    "    a_next = a0\n",
    "\n",
    "    # loop over all time-steps\n",
    "    for t in range(T_x):\n",
    "\n",
    "        # Update next hidden state, compute the prediction\n",
    "        a_prev = a_next\n",
    "        a_next, yt_pred = rnn_cell_forward(x[:,t], a_next, Wax, Waa, Wya, ba, by)\n",
    "\n",
    "        # Store the time-step in the history\n",
    "        step_parms = (a_next, a_prev, x[:,t], Wax, Waa, Wya, ba, by)\n",
    "        history.append(step_parms)\n",
    "\n",
    "        # Save the value of the new \"next\" hidden state in a (≈1 line)\n",
    "        a[:, t] = a_next\n",
    "\n",
    "        # Save the value of the prediction in y\n",
    "        y_pred[:, t] = yt_pred\n",
    "\n",
    "    return a, y_pred, history"
   ]
  },
  {
   "cell_type": "code",
   "execution_count": 4,
   "id": "08d5213c",
   "metadata": {},
   "outputs": [],
   "source": [
    "# Let's run the rnn_forward for a sequence of 10 elements.\n",
    "inputs = np.array([[4, 0, 0, 0], [0, 8, 2, 0]]).transpose()\n",
    "\n",
    "# YOUR CODE HERE\n",
    "# what are the shapes of the weights and biases?\n",
    "a0 = .1 * np.ones(3)\n",
    "Waa = .1 * np.ones((3,3))\n",
    "Wax = .1 * np.ones((3,4))\n",
    "Wya = .1 * np.ones((2,3))\n",
    "ba = .1 * np.ones(3)\n",
    "by = .1 * np.ones(2)"
   ]
  },
  {
   "cell_type": "code",
   "execution_count": 5,
   "id": "e6cd3130",
   "metadata": {},
   "outputs": [
    {
     "name": "stdout",
     "output_type": "stream",
     "text": [
      "a =  [[0.48538109 0.84704925]\n",
      " [0.48538109 0.84704925]\n",
      " [0.48538109 0.84704925]]\n",
      "a.shape =  (3, 2)\n",
      "\n",
      "y_pred = [[0.5 0.5]\n",
      " [0.5 0.5]]\n",
      "y_pred.shape =  (2, 2)\n"
     ]
    }
   ],
   "source": [
    "a, y_pred, history = rnn_forward(inputs, a0, Wax, Waa, Wya, ba, by)\n",
    "\n",
    "print(\"a = \", a)\n",
    "print(\"a.shape = \", a.shape)\n",
    "print()\n",
    "print(\"y_pred =\", y_pred)\n",
    "print(\"y_pred.shape = \", y_pred.shape)\n"
   ]
  },
  {
   "cell_type": "markdown",
   "id": "c69eec4a",
   "metadata": {},
   "source": [
    "## Question 02\n",
    "\n",
    "Use PyTorch to implement an RNN cell and use it to generate random person names using the file `names.txt` as training examples."
   ]
  },
  {
   "cell_type": "code",
   "execution_count": 6,
   "id": "d2f2052f",
   "metadata": {},
   "outputs": [],
   "source": [
    "import torch\n",
    "import torch.nn as nn\n",
    "from torch import optim\n",
    "\n",
    "\n",
    "# Vanilla RNN implementation\n",
    "class RNN(nn.Module):\n",
    "    def __init__(self, input_size, hidden_size, output_size):\n",
    "        super(RNN, self).__init__()\n",
    "        self.hidden_size = hidden_size\n",
    "        self.i2h = nn.Linear(input_size + hidden_size, hidden_size)\n",
    "        self.tanh= nn.Tanh()\n",
    "        self.o2o = nn.Linear(hidden_size, output_size)\n",
    "        self.initial_hidden = nn.Parameter(\n",
    "            torch.zeros(1, hidden_size)\n",
    "        )\n",
    "        self.softmax = nn.LogSoftmax(dim=1)\n",
    "\n",
    "    def single_forward(self, input, hidden):\n",
    "        # YOUR CODE HERE\n",
    "        input_combined = torch.cat((input, hidden), 1)\n",
    "        hidden = self.tanh(self.i2h(input_combined))\n",
    "        output = self.o2o(hidden)\n",
    "        output = self.softmax(output)\n",
    "        return output, hidden\n",
    "\n",
    "    def forward(self, input_line_tensor):\n",
    "        # YOUR CODE HERE\n",
    "        outputs = []\n",
    "\n",
    "        hidden = self.initial_hidden\n",
    "\n",
    "        for x_t in input_line_tensor:\n",
    "            output, hidden = self.single_forward(\n",
    "                x_t, hidden)\n",
    "            outputs.append(output)\n",
    "\n",
    "        return outputs\n"
   ]
  },
  {
   "cell_type": "code",
   "execution_count": 7,
   "id": "7746d482",
   "metadata": {},
   "outputs": [
    {
     "name": "stdout",
     "output_type": "stream",
     "text": [
      "['francisco', 'maria', 'joão', 'leonor', 'afonso', 'matilde', 'tomás', 'carolina', 'duarte', 'alice', 'gabriel', 'benedita', 'santiago', 'beatriz', 'lourenço', 'mariana', 'rodrigo', 'francisca', 'miguel', 'sofia', 'martim', 'margarida', 'vicente', 'laura', 'mateus', 'camila', 'lucas', 'clara', 'guilherme', 'ana', 'salvador', 'inês', 'pedro', 'lara', 'gonçalo', 'madalena', 'dinis', 'diana', 'rafael', 'vitória', 'gustavo', 'constança', 'bernardo', 'eva', 'josé', 'mafalda', 'diogo', 'gabriela', 'manuel', 'bianca', 'tiago', 'valentina', 'vasco', 'joana', 'henrique', 'íris', 'simão', 'sara', 'diego', 'luana', 'antónio', 'ariana', 'david', 'letícia', 'daniel', 'rita', 'leonardo', 'júlia', 'enzo', 'carlota', 'xavier', 'carminho', 'eduardo', 'luísa', 'andré', 'ema', 'luís', 'olívia', 'isaac', 'helena', 'matias', 'yara', 'valentim', 'aurora', 'artur', 'yasmin', 'samuel', 'emma', 'kevin', 'teresa', 'frederico', 'mara', 'filipe', 'catarina', 'matheus', 'caetana', 'lorenzo', 'melissa', 'noah', 'alícia', 'alexandre', 'isabel', 'benjamim', 'noa', 'davi', 'marta', 'bryan', 'victória', 'sebastião', 'iara', 'ricardo', 'alana', 'joaquim', 'amélia', 'carlos', 'pilar', 'leandro', 'daniela', 'nicole']\n"
     ]
    }
   ],
   "source": [
    "# all letters to work with the Portuguese names from the train file\n",
    "all_letters = 'abcdefghijklmnopqrstuvxwyzáàãçéêíóõôú'\n",
    "n_letters = len(all_letters) + 2 # Plus BOS and EOS marker\n",
    "\n",
    "# One-hot matrix of first to last letters (not including EOS) for input\n",
    "# Adds a BOS token as the first token\n",
    "def inputTensor(line):\n",
    "    tensor = torch.zeros(len(line)+1, 1, n_letters)\n",
    "    tensor[0][0][-2] = 1  # BOS\n",
    "    for letter_idx in range(len(line)):\n",
    "        letter = line[letter_idx]\n",
    "        tensor[letter_idx+1][0][all_letters.find(letter)] = 1\n",
    "    return tensor\n",
    "\n",
    "# LongTensor of second letter to end (EOS) for target\n",
    "def targetTensor(line):\n",
    "    letter_indexes = [all_letters.find(line[l_idx]) for l_idx in range(len(line))]\n",
    "    letter_indexes.append(n_letters - 1) # EOS\n",
    "    return torch.LongTensor(letter_indexes).unsqueeze(-1)\n",
    "\n",
    "# Read the list of names\n",
    "with open(\"names.txt\") as file:\n",
    "    names = [name.lower().strip() for name in file.readlines()]\n",
    "\n",
    "print(names)"
   ]
  },
  {
   "cell_type": "code",
   "execution_count": 8,
   "id": "c9b02b0f",
   "metadata": {},
   "outputs": [
    {
     "name": "stderr",
     "output_type": "stream",
     "text": [
      "100%|██████████| 1000/1000 [02:18<00:00,  7.20it/s]\n"
     ]
    }
   ],
   "source": [
    "from tqdm import tqdm\n",
    "from random import shuffle, choices\n",
    "\n",
    "train_data = [ (inputTensor(name),targetTensor(name)) for name in names ]\n",
    "hidden_size = 128\n",
    "num_epochs = 1000\n",
    "criterion = nn.NLLLoss()\n",
    "learning_rate = 5e-4\n",
    "model = RNN(n_letters, hidden_size, n_letters)\n",
    "optimizer = optim.Adam(model.parameters(), lr=learning_rate)\n",
    "\n",
    "\n",
    "def train(model, train_data, num_epochs, optimizer, criterion ):\n",
    "    all_losses = []\n",
    "\n",
    "    for epoch in tqdm(range(num_epochs)):\n",
    "\n",
    "        shuffle(train_data)\n",
    "        loss_agg = 0\n",
    "\n",
    "        for input_line_tensor, target_line_tensor in train_data:\n",
    "\n",
    "            optimizer.zero_grad()\n",
    "\n",
    "            outputs = model.forward(input_line_tensor)\n",
    "\n",
    "            loss = torch.stack(\n",
    "                [ criterion(o_i, t_i) for o_i ,t_i in zip(outputs, target_line_tensor)]\n",
    "            ).sum()\n",
    "\n",
    "            loss.backward()\n",
    "            optimizer.step()\n",
    "\n",
    "            loss_agg += loss.item()/ input_line_tensor.size(0)\n",
    "\n",
    "        all_losses.append(loss_agg)\n",
    "\n",
    "    return all_losses\n",
    "\n",
    "all_losses = train(\n",
    "    model=model,\n",
    "    train_data=train_data,\n",
    "    num_epochs=num_epochs,\n",
    "    optimizer=optimizer,\n",
    "    criterion=criterion)"
   ]
  },
  {
   "cell_type": "code",
   "execution_count": 9,
   "id": "84af223f",
   "metadata": {
    "scrolled": true
   },
   "outputs": [
    {
     "data": {
      "text/plain": [
       "[<matplotlib.lines.Line2D at 0x11fcf6aa0>]"
      ]
     },
     "execution_count": 9,
     "metadata": {},
     "output_type": "execute_result"
    },
    {
     "data": {
      "image/png": "[encoded data removed]",
      "text/plain": [
       "<Figure size 640x480 with 1 Axes>"
      ]
     },
     "metadata": {},
     "output_type": "display_data"
    }
   ],
   "source": [
    "import matplotlib.pyplot as plt\n",
    "\n",
    "# Let's inpsect the training loss\n",
    "plt.figure()\n",
    "plt.plot(all_losses)"
   ]
  },
  {
   "cell_type": "code",
   "execution_count": 10,
   "id": "655eb366",
   "metadata": {},
   "outputs": [
    {
     "name": "stdout",
     "output_type": "stream",
     "text": [
      "--random sampling--\n",
      "letícia\n",
      "constança\n",
      "matias\n",
      "\n",
      "--top-k sampling--\n",
      "matheledanzozo\n",
      "miguiss\n",
      "luasau\n"
     ]
    }
   ],
   "source": [
    "# Sample from a category and starting letter\n",
    "def sampling_names(start_string='', method=\"sample\", kk=1, max_length=20, vocabulary=all_letters):\n",
    "    with torch.no_grad():  # no need to track history in sampling\n",
    "        hidden = model.initial_hidden\n",
    "\n",
    "        # process each letter of start_string, including BOS\n",
    "        output_name = start_string\n",
    "        input = inputTensor(start_string)\n",
    "        if input.shape[0] > 1:\n",
    "            for input_t in input[:-1].split(1):\n",
    "                _, hidden = model.single_forward(input_t[0], hidden)\n",
    "\n",
    "        # start sampling from the last letter of start_string\n",
    "        for _ in range(max_length):\n",
    "            output, hidden = model.single_forward(input[-1], hidden)\n",
    "            # top-k sampling\n",
    "            if method == \"top_k\":\n",
    "                # YOUR CODE HERE\n",
    "                _, topi = output.topk(kk)\n",
    "                topi = choices(topi[0])[0]\n",
    "            # random sampling\n",
    "            elif method == \"sample\":\n",
    "                # YOUR CODE HERE\n",
    "                topi = torch.multinomial(output.exp(), 1)[0]\n",
    "\n",
    "            # stop sampling if EOS\n",
    "            if topi == n_letters - 1:\n",
    "                break\n",
    "            # ignore BOS\n",
    "            elif topi == n_letters - 2:\n",
    "                continue\n",
    "            # add letter to output_name\n",
    "            else:\n",
    "                letter = vocabulary[topi]\n",
    "                output_name += letter\n",
    "            # use the sampled letter as the next input\n",
    "            input = inputTensor(letter)\n",
    "\n",
    "        return output_name\n",
    "\n",
    "starting_string = ''\n",
    "print(\"--random sampling--\")\n",
    "# generate 3 random names with random sampling\n",
    "# note how it is only copying the names from the training set\n",
    "for _ in range(10):\n",
    "    print(sampling_names(starting_string, method=\"sample\"))\n",
    "print(\"\\n--top-k sampling--\")\n",
    "# generate 3 random names with random sampling\n",
    "for _ in range(10):\n",
    "    print(sampling_names(starting_string, method=\"top_k\", kk=2))"
   ]
  },
  {
   "cell_type": "markdown",
   "id": "5de9f503",
   "metadata": {},
   "source": [
    "## Question 03"
   ]
  },
  {
   "cell_type": "code",
   "execution_count": 11,
   "id": "6d3482bd",
   "metadata": {},
   "outputs": [
    {
     "name": "stdout",
     "output_type": "stream",
     "text": [
      "Requirement already satisfied: datasets in /Users/gmc/.pyenv/versions/3.10.6/lib/python3.10/site-packages (2.7.1)\n",
      "Requirement already satisfied: numpy>=1.17 in /Users/gmc/.pyenv/versions/3.10.6/lib/python3.10/site-packages (from datasets) (1.23.3)\n",
      "Requirement already satisfied: pyarrow>=6.0.0 in /Users/gmc/.pyenv/versions/3.10.6/lib/python3.10/site-packages (from datasets) (10.0.1)\n",
      "Requirement already satisfied: dill<0.3.7 in /Users/gmc/.pyenv/versions/3.10.6/lib/python3.10/site-packages (from datasets) (0.3.6)\n",
      "Requirement already satisfied: pandas in /Users/gmc/.pyenv/versions/3.10.6/lib/python3.10/site-packages (from datasets) (1.5.0)\n",
      "Requirement already satisfied: requests>=2.19.0 in /Users/gmc/.pyenv/versions/3.10.6/lib/python3.10/site-packages (from datasets) (2.28.1)\n",
      "Requirement already satisfied: tqdm>=4.62.1 in /Users/gmc/.pyenv/versions/3.10.6/lib/python3.10/site-packages (from datasets) (4.62.3)\n",
      "Requirement already satisfied: xxhash in /Users/gmc/.pyenv/versions/3.10.6/lib/python3.10/site-packages (from datasets) (3.1.0)\n",
      "Requirement already satisfied: multiprocess in /Users/gmc/.pyenv/versions/3.10.6/lib/python3.10/site-packages (from datasets) (0.70.14)\n",
      "Requirement already satisfied: fsspec[http]>=2021.11.1 in /Users/gmc/.pyenv/versions/3.10.6/lib/python3.10/site-packages (from datasets) (2022.11.0)\n",
      "Requirement already satisfied: aiohttp in /Users/gmc/.pyenv/versions/3.10.6/lib/python3.10/site-packages (from datasets) (3.8.3)\n",
      "Requirement already satisfied: huggingface-hub<1.0.0,>=0.2.0 in /Users/gmc/.pyenv/versions/3.10.6/lib/python3.10/site-packages (from datasets) (0.11.1)\n",
      "Requirement already satisfied: packaging in /Users/gmc/.pyenv/versions/3.10.6/lib/python3.10/site-packages (from datasets) (21.3)\n",
      "Requirement already satisfied: responses<0.19 in /Users/gmc/.pyenv/versions/3.10.6/lib/python3.10/site-packages (from datasets) (0.18.0)\n",
      "Requirement already satisfied: pyyaml>=5.1 in /Users/gmc/.pyenv/versions/3.10.6/lib/python3.10/site-packages (from datasets) (6.0)\n",
      "Requirement already satisfied: attrs>=17.3.0 in /Users/gmc/.pyenv/versions/3.10.6/lib/python3.10/site-packages (from aiohttp->datasets) (22.1.0)\n",
      "Requirement already satisfied: charset-normalizer<3.0,>=2.0 in /Users/gmc/.pyenv/versions/3.10.6/lib/python3.10/site-packages (from aiohttp->datasets) (2.1.1)\n",
      "Requirement already satisfied: multidict<7.0,>=4.5 in /Users/gmc/.pyenv/versions/3.10.6/lib/python3.10/site-packages (from aiohttp->datasets) (6.0.3)\n",
      "Requirement already satisfied: async-timeout<5.0,>=4.0.0a3 in /Users/gmc/.pyenv/versions/3.10.6/lib/python3.10/site-packages (from aiohttp->datasets) (4.0.2)\n",
      "Requirement already satisfied: yarl<2.0,>=1.0 in /Users/gmc/.pyenv/versions/3.10.6/lib/python3.10/site-packages (from aiohttp->datasets) (1.8.2)\n",
      "Requirement already satisfied: frozenlist>=1.1.1 in /Users/gmc/.pyenv/versions/3.10.6/lib/python3.10/site-packages (from aiohttp->datasets) (1.3.3)\n",
      "Requirement already satisfied: aiosignal>=1.1.2 in /Users/gmc/.pyenv/versions/3.10.6/lib/python3.10/site-packages (from aiohttp->datasets) (1.3.1)\n",
      "Requirement already satisfied: filelock in /Users/gmc/.pyenv/versions/3.10.6/lib/python3.10/site-packages (from huggingface-hub<1.0.0,>=0.2.0->datasets) (3.8.2)\n",
      "Requirement already satisfied: typing-extensions>=3.7.4.3 in /Users/gmc/.pyenv/versions/3.10.6/lib/python3.10/site-packages (from huggingface-hub<1.0.0,>=0.2.0->datasets) (4.4.0)\n",
      "Requirement already satisfied: pyparsing!=3.0.5,>=2.0.2 in /Users/gmc/.pyenv/versions/3.10.6/lib/python3.10/site-packages (from packaging->datasets) (3.0.9)\n",
      "Requirement already satisfied: idna<4,>=2.5 in /Users/gmc/.pyenv/versions/3.10.6/lib/python3.10/site-packages (from requests>=2.19.0->datasets) (3.4)\n",
      "Requirement already satisfied: urllib3<1.27,>=1.21.1 in /Users/gmc/.pyenv/versions/3.10.6/lib/python3.10/site-packages (from requests>=2.19.0->datasets) (1.26.13)\n",
      "Requirement already satisfied: certifi>=2017.4.17 in /Users/gmc/.pyenv/versions/3.10.6/lib/python3.10/site-packages (from requests>=2.19.0->datasets) (2022.12.7)\n",
      "Requirement already satisfied: python-dateutil>=2.8.1 in /Users/gmc/.pyenv/versions/3.10.6/lib/python3.10/site-packages (from pandas->datasets) (2.8.2)\n",
      "Requirement already satisfied: pytz>=2020.1 in /Users/gmc/.pyenv/versions/3.10.6/lib/python3.10/site-packages (from pandas->datasets) (2022.2.1)\n",
      "Requirement already satisfied: six>=1.5 in /Users/gmc/.pyenv/versions/3.10.6/lib/python3.10/site-packages (from python-dateutil>=2.8.1->pandas->datasets) (1.16.0)\n"
     ]
    }
   ],
   "source": [
    "!pip install datasets"
   ]
  },
  {
   "cell_type": "code",
   "execution_count": 12,
   "id": "e9548318",
   "metadata": {},
   "outputs": [
    {
     "name": "stderr",
     "output_type": "stream",
     "text": [
      "Using the latest cached version of the module from /Users/gmc/.cache/huggingface/modules/datasets_modules/datasets/imdb/d613c88cf8fa3bab83b4ded3713f1f74830d1100e171db75bbddb80b3345c9c0 (last modified on Sun Oct 29 20:25:52 2023) since it couldn't be found locally at imdb., or remotely on the Hugging Face Hub.\n"
     ]
    },
    {
     "data": {
      "text/plain": [
       "{'text': Value(dtype='string', id=None),\n",
       " 'label': ClassLabel(names=['neg', 'pos'], id=None)}"
      ]
     },
     "execution_count": 12,
     "metadata": {},
     "output_type": "execute_result"
    }
   ],
   "source": [
    "from datasets import load_dataset_builder\n",
    "from datasets import load_dataset\n",
    "\n",
    "\n",
    "ds_builder = load_dataset_builder(\"imdb\")\n",
    "ds_builder.info.features"
   ]
  },
  {
   "cell_type": "code",
   "execution_count": 13,
   "id": "d40ac1de",
   "metadata": {},
   "outputs": [
    {
     "name": "stderr",
     "output_type": "stream",
     "text": [
      "Using the latest cached version of the module from /Users/gmc/.cache/huggingface/modules/datasets_modules/datasets/imdb/d613c88cf8fa3bab83b4ded3713f1f74830d1100e171db75bbddb80b3345c9c0 (last modified on Sun Oct 29 20:25:52 2023) since it couldn't be found locally at imdb., or remotely on the Hugging Face Hub.\n",
      "Found cached dataset imdb (/Users/gmc/.cache/huggingface/datasets/imdb/plain_text/1.0.0/d613c88cf8fa3bab83b4ded3713f1f74830d1100e171db75bbddb80b3345c9c0)\n",
      "100%|██████████| 3/3 [00:00<00:00, 507.44it/s]"
     ]
    },
    {
     "name": "stdout",
     "output_type": "stream",
     "text": [
      "Number of training examples: 25000\n",
      "Number of test examples: 25000\n"
     ]
    },
    {
     "name": "stderr",
     "output_type": "stream",
     "text": [
      "\n"
     ]
    }
   ],
   "source": [
    "dataset = load_dataset(\"imdb\")\n",
    "\n",
    "\n",
    "print(f'Number of training examples: {len(dataset[\"train\"])}')\n",
    "print(f'Number of test examples: {len(dataset[\"test\"])}')"
   ]
  },
  {
   "cell_type": "code",
   "execution_count": 27,
   "id": "142e4ab8",
   "metadata": {},
   "outputs": [
    {
     "name": "stderr",
     "output_type": "stream",
     "text": [
      "[nltk_data] Error loading punkt: <urlopen error [Errno 8] nodename nor\n",
      "[nltk_data]     servname provided, or not known>\n"
     ]
    }
   ],
   "source": [
    "# get a vocabulary of the top K words in the dataset, without stopwords\n",
    "from collections import Counter\n",
    "import nltk\n",
    "nltk.download('punkt')\n",
    "from nltk.tokenize import word_tokenize\n",
    "\n",
    "def get_vocab(dataset, vocab_size=1024):\n",
    "    counter = Counter()\n",
    "    for example in dataset:\n",
    "        counter.update([word for word in word_tokenize(example['text'].lower())])\n",
    "    vocab = counter.most_common(vocab_size)\n",
    "    return [word for word, _ in vocab]"
   ]
  },
  {
   "cell_type": "code",
   "execution_count": 28,
   "id": "b2cbbc1a",
   "metadata": {},
   "outputs": [],
   "source": [
    "# create a pytorch dataset\n",
    "import torch\n",
    "from torch.utils.data import Dataset\n",
    "from collections import defaultdict\n",
    "\n",
    "class IMDBDataset(Dataset):\n",
    "    def __init__(self, dataset, vocab, split=\"train\", first_n_words=128):\n",
    "        self.dataset = dataset\n",
    "        self.vocab = vocab\n",
    "        self.unk_idx = 0\n",
    "        self.pad_idx = 1\n",
    "        self.first_n_words = first_n_words\n",
    "        # use a special dict that maps words to indices and if the word is not\n",
    "        # in the vocab, the special dict automatically returns the index of the\n",
    "        # unknown token\n",
    "        self.word2idx = defaultdict(lambda: self.unk_idx)\n",
    "        self.word2idx['<pad>'] = self.pad_idx\n",
    "        # add the words to the dict, starting from index 2 (0 is for the unknown token,\n",
    "        # 1 is for the padding token)\n",
    "        self.word2idx.update({word: idx + 2 for idx, word in enumerate(self.vocab)})\n",
    "        self.idx2word = {idx: word for word, idx in self.word2idx.items()}\n",
    "        \n",
    "        self.split = split\n",
    "\n",
    "    def __len__(self):\n",
    "        return len(self.dataset)\n",
    "\n",
    "    def __getitem__(self, idx):\n",
    "        example = self.dataset[idx]\n",
    "        text = word_tokenize(example['text'])\n",
    "        text = [self.word2idx[word] for word in text][:self.first_n_words]\n",
    "        return torch.LongTensor(text), example['label']\n",
    "    \n",
    "    def collate_fn(self, batch):\n",
    "        \"\"\"\n",
    "        This function takes a list of tokens, already as the index of a vocabulary\n",
    "        and turns it into a tensor, with padding where appropriate.\n",
    "        The padding index is stored in self.pad_idx\n",
    "\n",
    "        Args:\n",
    "            batch (list): a list of tuples,\n",
    "                where each tuple has the tokens for one sequence in position 0\n",
    "                and the label for that sequence in position 1.\n",
    "\n",
    "        Returns:\n",
    "            torch.tensor: return the padded tensor and the labels in tensor form.\n",
    "                The padded tensor is of size [batch_size, max_len],\n",
    "                the labels tensor is [batch_size]\n",
    "        \"\"\"\n",
    "        # YOUR CODE HERE\n",
    "        # get the max length of the sentences in the batch\n",
    "        max_len = max([len(text_tensor) for text_tensor, _ in batch])\n",
    "        # pad all the sentences to the max length\n",
    "        padded_tensors = []\n",
    "        labels = []\n",
    "        for text_tensor, label in batch:\n",
    "            # 1 is the index of the padding token\n",
    "            padded_tensor = torch.ones(max_len, dtype=torch.long) * self.pad_idx\n",
    "            padded_tensor[:len(text_tensor)] = text_tensor\n",
    "            padded_tensors.append(padded_tensor)\n",
    "            labels.append(label)\n",
    "        # convert the lists to tensors\n",
    "        padded_tensors = torch.stack(padded_tensors)\n",
    "        return padded_tensors, torch.LongTensor(labels)\n"
   ]
  },
  {
   "cell_type": "code",
   "execution_count": 29,
   "id": "a7bfa34d",
   "metadata": {},
   "outputs": [],
   "source": [
    "import torch\n",
    "import torch.nn as nn\n",
    "\n",
    "class RNN(nn.Module):\n",
    "    def __init__(self, vocab_size, embedding_dim, hidden_dim, output_dim, dropout=0.3):\n",
    "\n",
    "        super().__init__()\n",
    "        self.embedding = nn.Embedding(vocab_size, embedding_dim)\n",
    "        self.rnn = nn.LSTM(embedding_dim, hidden_dim, batch_first=True)\n",
    "        self.fc = nn.Linear(hidden_dim, output_dim)\n",
    "        self.dropout = nn.Dropout(dropout)\n",
    "\n",
    "    def forward(self, text):\n",
    "        # YOUR CODE HERE\n",
    "\n",
    "        # pass the tokens through the embedding layer\n",
    "        emb = self.embedding(text)\n",
    "        # apply dropout to the embeddings\n",
    "        emb = self.dropout(emb)\n",
    "\n",
    "        # pass it simply through the LSTM initialized above\n",
    "        # (you don't need a for loop, nn.LSTM takes care of that for you)\n",
    "        enc_output, _ = self.rnn(emb)\n",
    "\n",
    "        # apply dropout to the output\n",
    "        enc_output = self.dropout(enc_output)\n",
    "\n",
    "        # Take the output of the last token of the sequence\n",
    "        hidden = enc_output[:, -1, :]\n",
    "\n",
    "        # pass it through the fully connected\n",
    "        return self.fc(hidden)"
   ]
  },
  {
   "cell_type": "code",
   "execution_count": 30,
   "id": "170a444f",
   "metadata": {},
   "outputs": [],
   "source": [
    "def binary_accuracy(preds, y):\n",
    "    \"\"\"\n",
    "    Returns accuracy per batch, i.e. if you get 8/10 right, this returns 0.8, NOT 8\n",
    "    \"\"\"\n",
    "\n",
    "    #round predictions to the closest integer\n",
    "    rounded_preds = torch.round(torch.sigmoid(preds))\n",
    "\n",
    "    correct = (rounded_preds == y).float() #convert into float for division \n",
    "\n",
    "    acc = correct.sum() / len(correct)\n",
    "    return acc"
   ]
  },
  {
   "cell_type": "code",
   "execution_count": 31,
   "id": "c768bb2f",
   "metadata": {},
   "outputs": [],
   "source": [
    "from tqdm import tqdm\n",
    "\n",
    "def train(model, train_daloader, optimizer, criterion):\n",
    "\n",
    "    epoch_loss = 0\n",
    "    epoch_acc = 0\n",
    "\n",
    "    model.train()\n",
    "\n",
    "    for text_tensors, targets in tqdm(train_daloader):\n",
    "        optimizer.zero_grad()\n",
    "\n",
    "        predictions = model(text_tensors).squeeze(1)\n",
    "\n",
    "        loss = criterion(predictions, targets.float())\n",
    "\n",
    "        acc = binary_accuracy(predictions, targets)\n",
    "\n",
    "        loss.backward()\n",
    "\n",
    "        optimizer.step()\n",
    "\n",
    "        epoch_loss += loss.item()\n",
    "        epoch_acc += acc.item()\n",
    "\n",
    "    return epoch_loss / len(train_daloader), epoch_acc / len(train_daloader)"
   ]
  },
  {
   "cell_type": "code",
   "execution_count": 32,
   "id": "39297ade",
   "metadata": {},
   "outputs": [],
   "source": [
    "def evaluate(model, eval_dataloader, criterion):\n",
    "\n",
    "    epoch_loss = 0\n",
    "    epoch_acc = 0\n",
    "\n",
    "    model.eval()\n",
    "\n",
    "    with torch.no_grad():\n",
    "\n",
    "        for text_tensors, targets in tqdm(eval_dataloader):\n",
    "\n",
    "            predictions = model(text_tensors).squeeze(1)\n",
    "\n",
    "            loss = criterion(predictions, targets.float())\n",
    "\n",
    "            acc = binary_accuracy(predictions, targets)\n",
    "\n",
    "            epoch_loss += loss.item()\n",
    "            epoch_acc += acc.item()\n",
    "\n",
    "    return epoch_loss / len(eval_dataloader), epoch_acc / len(eval_dataloader)"
   ]
  },
  {
   "cell_type": "code",
   "execution_count": 33,
   "id": "c5aaef9b",
   "metadata": {},
   "outputs": [
    {
     "name": "stderr",
     "output_type": "stream",
     "text": [
      "100%|██████████| 313/313 [01:38<00:00,  3.19it/s]\n",
      "100%|██████████| 79/79 [00:16<00:00,  4.83it/s]\n"
     ]
    },
    {
     "name": "stdout",
     "output_type": "stream",
     "text": [
      "Epoch: 01\n",
      "\tTrain Loss: 0.692 | Train Acc: 52.03%\n",
      "\t Val. Loss: 0.689 |  Val. Acc: 54.53%\n"
     ]
    },
    {
     "name": "stderr",
     "output_type": "stream",
     "text": [
      "100%|██████████| 313/313 [01:38<00:00,  3.18it/s]\n",
      "100%|██████████| 79/79 [00:16<00:00,  4.79it/s]\n"
     ]
    },
    {
     "name": "stdout",
     "output_type": "stream",
     "text": [
      "Epoch: 02\n",
      "\tTrain Loss: 0.687 | Train Acc: 55.16%\n",
      "\t Val. Loss: 0.679 |  Val. Acc: 56.96%\n"
     ]
    },
    {
     "name": "stderr",
     "output_type": "stream",
     "text": [
      "100%|██████████| 313/313 [01:38<00:00,  3.18it/s]\n",
      "100%|██████████| 79/79 [00:16<00:00,  4.80it/s]\n"
     ]
    },
    {
     "name": "stdout",
     "output_type": "stream",
     "text": [
      "Epoch: 03\n",
      "\tTrain Loss: 0.688 | Train Acc: 54.76%\n",
      "\t Val. Loss: 0.685 |  Val. Acc: 58.78%\n"
     ]
    },
    {
     "name": "stderr",
     "output_type": "stream",
     "text": [
      "100%|██████████| 313/313 [01:38<00:00,  3.17it/s]\n",
      "100%|██████████| 79/79 [00:16<00:00,  4.79it/s]\n"
     ]
    },
    {
     "name": "stdout",
     "output_type": "stream",
     "text": [
      "Epoch: 04\n",
      "\tTrain Loss: 0.681 | Train Acc: 56.32%\n",
      "\t Val. Loss: 0.669 |  Val. Acc: 60.15%\n"
     ]
    },
    {
     "name": "stderr",
     "output_type": "stream",
     "text": [
      "100%|██████████| 313/313 [01:38<00:00,  3.17it/s]\n",
      "100%|██████████| 79/79 [00:16<00:00,  4.78it/s]"
     ]
    },
    {
     "name": "stdout",
     "output_type": "stream",
     "text": [
      "Epoch: 05\n",
      "\tTrain Loss: 0.663 | Train Acc: 60.83%\n",
      "\t Val. Loss: 0.660 |  Val. Acc: 61.63%\n"
     ]
    },
    {
     "name": "stderr",
     "output_type": "stream",
     "text": [
      "\n"
     ]
    }
   ],
   "source": [
    "from torch.utils.data import DataLoader\n",
    "from torch import optim\n",
    "\n",
    "# set the seed for reproducibility\n",
    "torch.manual_seed(42)\n",
    "\n",
    "VOCAB_SIZE = 1024\n",
    "FIRST_N_WORDS = 128\n",
    "BATCH_SIZE = 64\n",
    "INPUT_DIM = VOCAB_SIZE + 2  # +2 for the unknown and padding tokens\n",
    "EMBEDDING_DIM = 128\n",
    "HIDDEN_DIM = 256\n",
    "OUTPUT_DIM = 1\n",
    "DROPOUT_RATE = 0.2\n",
    "LR_RATE = 1e-4\n",
    "\n",
    "vocab = get_vocab(dataset['train'], vocab_size=1024)\n",
    "# use 80% of the training set for training and 20% for validation\n",
    "train_size = int(0.8 * len(dataset['train']))\n",
    "valid_size = len(dataset['train']) - train_size\n",
    "# split the training set\n",
    "train_dataset, valid_dataset = torch.utils.data.random_split(dataset['train'], [train_size, valid_size])\n",
    "# create the pytorch datasets\n",
    "train_dataset = IMDBDataset(train_dataset, vocab, split=\"train\", first_n_words=FIRST_N_WORDS)\n",
    "valid_dataset = IMDBDataset(valid_dataset, vocab, split=\"valid\")\n",
    "test_dataset = IMDBDataset(dataset['test'], vocab, split=\"test\")\n",
    "\n",
    "train_loader = DataLoader(train_dataset, batch_size=BATCH_SIZE, shuffle=True, collate_fn=train_dataset.collate_fn)\n",
    "valid_loader = DataLoader(valid_dataset, batch_size=BATCH_SIZE, collate_fn=valid_dataset.collate_fn)\n",
    "test_loader = DataLoader(test_dataset, batch_size=BATCH_SIZE, collate_fn=test_dataset.collate_fn)\n",
    "\n",
    "model = RNN(INPUT_DIM,\n",
    "            EMBEDDING_DIM,\n",
    "            HIDDEN_DIM,\n",
    "            OUTPUT_DIM,\n",
    "            dropout=DROPOUT_RATE)\n",
    "\n",
    "optimizer = optim.Adam(model.parameters(), lr=LR_RATE)\n",
    "criterion = nn.BCEWithLogitsLoss()\n",
    "\n",
    "# Train for 5 epochs\n",
    "for epoch in range(5):\n",
    "\n",
    "    train_loss, train_acc = train(model, train_loader, optimizer, criterion)\n",
    "    valid_loss, valid_acc = evaluate(model, valid_loader, criterion)\n",
    "\n",
    "    print(f'Epoch: {epoch+1:02}')\n",
    "    print(f'\\tTrain Loss: {train_loss:.3f} | Train Acc: {train_acc*100:.2f}%')\n",
    "    print(f'\\t Val. Loss: {valid_loss:.3f} |  Val. Acc: {valid_acc*100:.2f}%')"
   ]
  },
  {
   "cell_type": "code",
   "execution_count": 34,
   "id": "2248ea09",
   "metadata": {},
   "outputs": [
    {
     "name": "stderr",
     "output_type": "stream",
     "text": [
      "100%|██████████| 391/391 [01:21<00:00,  4.81it/s]"
     ]
    },
    {
     "name": "stdout",
     "output_type": "stream",
     "text": [
      "\t Test Loss: 0.663 |  Test Acc: 61.53%\n"
     ]
    },
    {
     "name": "stderr",
     "output_type": "stream",
     "text": [
      "\n"
     ]
    }
   ],
   "source": [
    "test_loss, test_acc = evaluate(model, test_loader, criterion)\n",
    "print(f'\\t Test Loss: {test_loss:.3f} |  Test Acc: {test_acc*100:.2f}%')"
   ]
  },
  {
   "cell_type": "markdown",
   "id": "cb39e81b",
   "metadata": {},
   "source": [
    "Let's do some changes to use a bidirectional LSTM and implement some other improvements."
   ]
  },
  {
   "cell_type": "code",
   "execution_count": 35,
   "id": "7662d89f",
   "metadata": {},
   "outputs": [],
   "source": [
    "import torch.nn as nn\n",
    "\n",
    "class RNN(nn.Module):\n",
    "    def __init__(self, vocab_size, embedding_dim, hidden_dim, output_dim, n_layers, bidirectional, dropout):\n",
    "\n",
    "        super().__init__()\n",
    "\n",
    "        self.embedding = nn.Embedding(vocab_size, embedding_dim)\n",
    "        self.bidirectional = bidirectional\n",
    "\n",
    "        self.rnn = nn.LSTM(embedding_dim,\n",
    "                            hidden_dim//2 if bidirectional else hidden_dim,\n",
    "                            num_layers=n_layers,\n",
    "                            bidirectional=bidirectional,\n",
    "                            batch_first=True)\n",
    "\n",
    "        self.fc = nn.Linear(hidden_dim, output_dim)\n",
    "\n",
    "        self.dropout = nn.Dropout(dropout)\n",
    "\n",
    "    def forward(self, text):\n",
    "        # YOUR CODE HERE\n",
    "\n",
    "        #text = [batch size, sent len]\n",
    "        #embedded = [batch size, sent len, emb dim]\n",
    "        embedded = self.dropout(self.embedding(text))\n",
    "        embedded = self.dropout(embedded)\n",
    "\n",
    "        # output = [batch size, sent len, hid dim * num directions]\n",
    "        # hidden = [num layers * num directions, batch size, hid dim]\n",
    "        # cell = [num layers * num directions, batch size, hid dim]\n",
    "        enc_output, (hidden, _) = self.rnn(embedded)\n",
    "\n",
    "        #hidden = [batch size, hid dim * num directions]\n",
    "        if self.bidirectional:\n",
    "            #concat the final forward (hidden[-2,:,:]) and backward (hidden[-1,:,:]) hidden layers\n",
    "            hidden = self.dropout(torch.cat((hidden[-2,:,:], hidden[-1,:,:]), dim = 1))\n",
    "        else:\n",
    "            hidden = self.dropout(hidden[-1,:,:])\n",
    "                \n",
    "        return self.fc(hidden)"
   ]
  },
  {
   "cell_type": "code",
   "execution_count": 36,
   "id": "f37cf56c",
   "metadata": {},
   "outputs": [],
   "source": [
    "VOCAB_SIZE = 1024\n",
    "FIRST_N_WORDS = 256\n",
    "BATCH_SIZE = 64\n",
    "INPUT_DIM = VOCAB_SIZE + 2  # +2 for the unknown and padding tokens\n",
    "EMBEDDING_DIM = 128\n",
    "HIDDEN_DIM = 256\n",
    "OUTPUT_DIM = 1\n",
    "N_LAYERS = 1\n",
    "BIDIRECTIONAL = True\n",
    "DROPOUT_RATE = 0.2\n",
    "LR_RATE = 1e-4\n",
    "EMBEDDING_DIM = 128\n",
    "\n",
    "model = RNN(INPUT_DIM,\n",
    "            EMBEDDING_DIM,\n",
    "            HIDDEN_DIM,\n",
    "            OUTPUT_DIM,\n",
    "            N_LAYERS,\n",
    "            BIDIRECTIONAL,\n",
    "            DROPOUT_RATE)"
   ]
  },
  {
   "cell_type": "code",
   "execution_count": 37,
   "id": "7ea38e5b",
   "metadata": {},
   "outputs": [
    {
     "name": "stderr",
     "output_type": "stream",
     "text": [
      "100%|██████████| 313/313 [01:36<00:00,  3.26it/s]\n",
      "100%|██████████| 79/79 [00:15<00:00,  5.23it/s]\n"
     ]
    },
    {
     "name": "stdout",
     "output_type": "stream",
     "text": [
      "Epoch: 01\n",
      "\tTrain Loss: 0.692 | Train Acc: 51.88%\n",
      "\t Val. Loss: 0.687 |  Val. Acc: 55.46%\n"
     ]
    },
    {
     "name": "stderr",
     "output_type": "stream",
     "text": [
      "100%|██████████| 313/313 [01:36<00:00,  3.24it/s]\n",
      "100%|██████████| 79/79 [00:15<00:00,  5.20it/s]\n"
     ]
    },
    {
     "name": "stdout",
     "output_type": "stream",
     "text": [
      "Epoch: 02\n",
      "\tTrain Loss: 0.687 | Train Acc: 54.96%\n",
      "\t Val. Loss: 0.682 |  Val. Acc: 56.41%\n"
     ]
    },
    {
     "name": "stderr",
     "output_type": "stream",
     "text": [
      "100%|██████████| 313/313 [01:36<00:00,  3.23it/s]\n",
      "100%|██████████| 79/79 [00:15<00:00,  5.16it/s]\n"
     ]
    },
    {
     "name": "stdout",
     "output_type": "stream",
     "text": [
      "Epoch: 03\n",
      "\tTrain Loss: 0.677 | Train Acc: 57.29%\n",
      "\t Val. Loss: 0.665 |  Val. Acc: 60.09%\n"
     ]
    },
    {
     "name": "stderr",
     "output_type": "stream",
     "text": [
      "100%|██████████| 313/313 [01:36<00:00,  3.24it/s]\n",
      "100%|██████████| 79/79 [00:15<00:00,  5.12it/s]\n"
     ]
    },
    {
     "name": "stdout",
     "output_type": "stream",
     "text": [
      "Epoch: 04\n",
      "\tTrain Loss: 0.658 | Train Acc: 61.00%\n",
      "\t Val. Loss: 0.722 |  Val. Acc: 60.78%\n"
     ]
    },
    {
     "name": "stderr",
     "output_type": "stream",
     "text": [
      "100%|██████████| 313/313 [01:36<00:00,  3.24it/s]\n",
      "100%|██████████| 79/79 [00:15<00:00,  5.02it/s]"
     ]
    },
    {
     "name": "stdout",
     "output_type": "stream",
     "text": [
      "Epoch: 05\n",
      "\tTrain Loss: 0.628 | Train Acc: 65.24%\n",
      "\t Val. Loss: 0.667 |  Val. Acc: 65.61%\n"
     ]
    },
    {
     "name": "stderr",
     "output_type": "stream",
     "text": [
      "\n"
     ]
    }
   ],
   "source": [
    "optimizer = optim.Adam(model.parameters(), lr=LR_RATE)\n",
    "\n",
    "# Train for 5 epochs\n",
    "for epoch in range(5):\n",
    "\n",
    "    train_loss, train_acc = train(model, train_loader, optimizer, criterion)\n",
    "    valid_loss, valid_acc = evaluate(model, valid_loader, criterion)\n",
    "\n",
    "    print(f'Epoch: {epoch+1:02}')\n",
    "    print(f'\\tTrain Loss: {train_loss:.3f} | Train Acc: {train_acc*100:.2f}%')\n",
    "    print(f'\\t Val. Loss: {valid_loss:.3f} |  Val. Acc: {valid_acc*100:.2f}%')"
   ]
  },
  {
   "cell_type": "code",
   "execution_count": 38,
   "id": "e6adb7b6",
   "metadata": {},
   "outputs": [
    {
     "name": "stderr",
     "output_type": "stream",
     "text": [
      "100%|██████████| 391/391 [01:16<00:00,  5.13it/s]"
     ]
    },
    {
     "name": "stdout",
     "output_type": "stream",
     "text": [
      "\t Test Loss: 0.659 |  Test Acc: 65.82%\n"
     ]
    },
    {
     "name": "stderr",
     "output_type": "stream",
     "text": [
      "\n"
     ]
    }
   ],
   "source": [
    "test_loss, test_acc = evaluate(model, test_loader, criterion)\n",
    "print(f'\\t Test Loss: {test_loss:.3f} |  Test Acc: {test_acc*100:.2f}%')"
   ]
  }
 ],
 "metadata": {
  "kernelspec": {
   "display_name": "DSLabPreprocess",
   "language": "python",
   "name": "python3"
  },
  "language_info": {
   "codemirror_mode": {
    "name": "ipython",
    "version": 3
   },
   "file_extension": ".py",
   "mimetype": "text/x-python",
   "name": "python",
   "nbconvert_exporter": "python",
   "pygments_lexer": "ipython3",
   "version": "3.10.6"
  },
  "vscode": {
   "interpreter": {
    "hash": "8a96707b1aefed7c05ab8288ccb93c4e2b95de2651b5fe43ac3cd3e321955411"
   }
  }
 },
 "nbformat": 4,
 "nbformat_minor": 5
}
